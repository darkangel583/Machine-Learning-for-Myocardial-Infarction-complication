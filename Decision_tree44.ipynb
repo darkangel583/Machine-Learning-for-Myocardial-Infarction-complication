{
  "nbformat": 4,
  "nbformat_minor": 0,
  "metadata": {
    "colab": {
      "provenance": []
    },
    "kernelspec": {
      "name": "python3",
      "display_name": "Python 3"
    },
    "language_info": {
      "name": "python"
    }
  },
  "cells": [
    {
      "cell_type": "code",
      "execution_count": null,
      "metadata": {
        "id": "yGjzDU9P5I1g"
      },
      "outputs": [],
      "source": [
        "import numpy as np\n",
        "import pandas as pd\n",
        "from sklearn.model_selection import train_test_split\n",
        "from imblearn.over_sampling import SMOTE\n",
        "from sklearn.tree import DecisionTreeClassifier\n",
        "from sklearn.metrics import accuracy_score,log_loss,precision_score,recall_score,jaccard_score,hamming_loss,classification_report,roc_auc_score,roc_curve\n",
        "from sklearn.preprocessing import LabelBinarizer\n",
        "import matplotlib.pyplot as plt\n",
        "from sklearn.svm import SVC\n",
        "from sklearn.multiclass import OneVsRestClassifier\n",
        "from keras.models import load_model\n",
        "from sklearn.linear_model import SGDClassifier\n",
        "from sklearn.naive_bayes import GaussianNB"
      ]
    },
    {
      "cell_type": "code",
      "source": [
        "df = pd.read_csv('MI.data',na_values='?')\n",
        "column_names = ['ID', 'AGE', 'SEX', 'INF_ANAM', 'STENOK_AN', 'FK_STENOK', 'IBS_POST', 'IBS_NASL', 'GB', 'SIM_GIPERT', 'DLIT_AG', 'ZSN_A', 'nr_11', 'nr_01', 'nr_02', 'nr_03', 'nr_04', 'nr_07', 'nr_08', 'np_01', 'np_04', 'np_05', 'np_07', 'np_08', 'np_09', 'np_10', 'endocr_01', 'endocr_02', 'endocr_03', 'zab_leg_01', 'zab_leg_02', 'zab_leg_03', 'zab_leg_04', 'zab_leg_06', 'S_AD_KBRIG', 'D_AD_KBRIG', 'S_AD_ORIT', 'D_AD_ORIT', 'O_L_POST', 'K_SH_POST', 'MP_TP_POST', 'SVT_POST', 'GT_POST', 'FIB_G_POST', 'ant_im', 'lat_im', 'inf_im', 'post_im', 'IM_PG_P', 'ritm_ecg_p_01', 'ritm_ecg_p_02', 'ritm_ecg_p_04', 'ritm_ecg_p_06', 'ritm_ecg_p_07', 'ritm_ecg_p_08', 'n_r_ecg_p_01', 'n_r_ecg_p_02', 'n_r_ecg_p_03', 'n_r_ecg_p_04', 'n_r_ecg_p_05', 'n_r_ecg_p_06', 'n_r_ecg_p_08', 'n_r_ecg_p_09', 'n_r_ecg_p_10', 'n_p_ecg_p_01', 'n_p_ecg_p_03', 'n_p_ecg_p_04', 'n_p_ecg_p_05', 'n_p_ecg_p_06', 'n_p_ecg_p_07', 'n_p_ecg_p_08', 'n_p_ecg_p_09', 'n_p_ecg_p_10', 'n_p_ecg_p_11', 'n_p_ecg_p_12', 'fibr_ter_01', 'fibr_ter_02', 'fibr_ter_03', 'fibr_ter_05', 'fibr_ter_06', 'fibr_ter_07', 'fibr_ter_08', 'GIPO_K', 'K_BLOOD', 'GIPER_NA', 'NA_BLOOD', 'ALT_BLOOD', 'AST_BLOOD', 'KFK_BLOOD', 'L_BLOOD', 'ROE', 'TIME_B_S', 'R_AB_1_n', 'R_AB_2_n', 'R_AB_3_n', 'NA_KB', 'NOT_NA_KB', 'LID_KB', 'NITR_S', 'NA_R_1_n', 'NA_R_2_n', 'NA_R_3_n', 'NOT_NA_1_n', 'NOT_NA_2_n', 'NOT_NA_3_n', 'LID_S_n', 'B_BLOK_S_n', 'ANT_CA_S_n', 'GEPAR_S_n', 'ASP_S_n', 'TIKL_S_n', 'TRENT_S_n', 'FIBR_PREDS', 'PREDS_TAH', 'JELUD_TAH', 'FIBR_JELUD', 'A_V_BLOK', 'OTEK_LANC', 'RAZRIV', 'DRESSLER', 'ZSN', 'REC_IM', 'P_IM_STEN', 'LET_IS']\n",
        "df.columns=column_names\n",
        "\n",
        "for col in df.columns:\n",
        "  if(df[col].isin([0,1,2,3,4,5,np.nan]).all()):\n",
        "    df[col]=df[col].fillna(df[col].mode()[0])\n",
        "  else:\n",
        "    df[col]=df[col].fillna(df[col].median())\n",
        "\n",
        "\n",
        "x=df.iloc[:,2:75]\n",
        "y=df.iloc[:,123]\n",
        "\n",
        "features=['SEX', 'INF_ANAM', 'STENOK_AN', 'FK_STENOK', 'IBS_POST', 'IBS_NASL',\n",
        "       'GB', 'SIM_GIPERT', 'DLIT_AG', 'ZSN_A', 'nr_11', 'nr_01', 'nr_02',\n",
        "       'nr_03', 'nr_04', 'np_05', 'np_08', 'np_10', 'endocr_02', 'zab_leg_01',\n",
        "       'zab_leg_02', 'zab_leg_03', 'zab_leg_04', 'zab_leg_06', 'S_AD_KBRIG',\n",
        "       'D_AD_KBRIG', 'S_AD_ORIT', 'D_AD_ORIT', 'K_SH_POST', 'MP_TP_POST',\n",
        "       'SVT_POST', 'FIB_G_POST', 'ant_im', 'lat_im', 'inf_im', 'post_im',\n",
        "       'IM_PG_P', 'ritm_ecg_p_01', 'ritm_ecg_p_02', 'ritm_ecg_p_07',\n",
        "       'n_r_ecg_p_01', 'n_r_ecg_p_02', 'n_r_ecg_p_03', 'n_r_ecg_p_05',\n",
        "       'n_r_ecg_p_06', 'n_r_ecg_p_08', 'n_p_ecg_p_03', 'n_p_ecg_p_08',\n",
        "       'n_p_ecg_p_09', 'n_p_ecg_p_10', 'n_p_ecg_p_11', 'n_p_ecg_p_12']\n",
        "\n",
        "\n",
        "x=x[features]\n",
        "\n",
        "smote = SMOTE(random_state=42)\n",
        "x_resampled, y_resampled = smote.fit_resample(x, y)\n",
        "\n",
        "x_train, x_test, y_train, y_test = train_test_split(x_resampled, y_resampled, test_size=0.2, random_state=42)\n"
      ],
      "metadata": {
        "id": "_Y91d6cDE-zh"
      },
      "execution_count": null,
      "outputs": []
    },
    {
      "cell_type": "code",
      "source": [
        "# model=DecisionTreeClassifier(criterion='gini', random_state=42)\n",
        "# model.fit(x_train,y_train)\n",
        "# svc = SVC(probability=True)  # Set probability to True for predict_proba\n",
        "# model=OneVsRestClassifier(svc)\n",
        "# model.fit(x_train, y_train)\n",
        "# model=SGDClassifier(loss = 'log')\n",
        "# model.fit(x_train,y_train)\n",
        "\n",
        "# model=GaussianNB()\n",
        "# model.fit(x_train,y_train)\n",
        "\n",
        "\n",
        "\n",
        "model = load_model('LSTM3_52feat_160epochs.keras')\n"
      ],
      "metadata": {
        "id": "52hUOXzEFISn"
      },
      "execution_count": null,
      "outputs": []
    },
    {
      "cell_type": "code",
      "source": [
        "y_pred=model.predict(x_test)\n",
        "\n",
        "yp=[]\n",
        "\n",
        "print(y_pred)\n",
        "\n",
        "for i in range(len(y_pred)):\n",
        "  mx=max(y_pred[i])\n",
        "  for j in range(len(y_pred[0])):\n",
        "    if (y_pred[i][j]==mx):\n",
        "      yp.append(j)\n",
        "\n",
        "yt=[]\n",
        "print(yp)\n",
        "for i in y_test:\n",
        "  yt.append(int(i))\n",
        "\n",
        "print(yt)"
      ],
      "metadata": {
        "colab": {
          "base_uri": "https://localhost:8080/"
        },
        "id": "Z8fifQJmAGvS",
        "outputId": "716172a8-fef2-4739-d753-f18c66e556b2"
      },
      "execution_count": null,
      "outputs": [
        {
          "output_type": "stream",
          "name": "stdout",
          "text": [
            "72/72 [==============================] - 3s 17ms/step\n",
            "[[9.1060400e-01 1.2237612e-11 2.3385310e-27 ... 3.9878320e-29\n",
            "  4.7910504e-22 1.5771675e-16]\n",
            " [3.2473213e-04 9.9967277e-01 3.2497097e-17 ... 1.1068443e-24\n",
            "  6.7109138e-11 2.4961980e-06]\n",
            " [1.1727689e-13 5.2588610e-14 0.0000000e+00 ... 5.0841350e-38\n",
            "  0.0000000e+00 9.9999994e-01]\n",
            " ...\n",
            " [2.6686868e-07 1.4021320e-14 4.8907637e-23 ... 1.3316777e-19\n",
            "  5.7054059e-20 4.8305647e-13]\n",
            " [5.5977944e-07 1.6219368e-11 9.9999940e-01 ... 1.4814820e-15\n",
            "  3.6580652e-32 5.1576643e-14]\n",
            " [1.0000000e+00 4.7348817e-33 0.0000000e+00 ... 0.0000000e+00\n",
            "  2.8405624e-31 7.2617713e-38]]\n",
            "[0, 1, 7, 3, 1, 4, 7, 6, 6, 3, 3, 7, 1, 2, 6, 6, 6, 2, 2, 4, 1, 4, 1, 0, 7, 7, 3, 2, 6, 2, 0, 0, 1, 2, 0, 1, 7, 1, 4, 7, 5, 1, 0, 0, 7, 6, 4, 6, 0, 5, 4, 6, 2, 6, 6, 5, 3, 3, 2, 6, 3, 0, 1, 6, 4, 4, 0, 2, 7, 6, 1, 6, 5, 4, 2, 4, 1, 6, 2, 4, 2, 5, 0, 4, 1, 7, 7, 5, 3, 4, 3, 5, 7, 2, 4, 3, 3, 5, 0, 3, 5, 3, 6, 5, 3, 6, 7, 3, 5, 1, 1, 2, 6, 1, 2, 5, 5, 5, 7, 0, 3, 6, 1, 0, 6, 4, 5, 2, 5, 1, 1, 4, 0, 3, 3, 3, 5, 4, 6, 6, 3, 5, 0, 2, 6, 0, 3, 3, 3, 4, 6, 0, 7, 6, 2, 4, 7, 5, 2, 5, 0, 7, 0, 3, 2, 5, 4, 1, 6, 7, 5, 5, 4, 4, 1, 7, 5, 5, 7, 4, 6, 3, 3, 2, 7, 3, 3, 3, 1, 7, 2, 5, 3, 4, 0, 3, 3, 0, 3, 2, 2, 1, 6, 2, 2, 6, 4, 3, 7, 2, 1, 6, 3, 3, 3, 2, 7, 4, 4, 1, 6, 3, 5, 5, 1, 1, 4, 2, 2, 4, 2, 3, 7, 2, 2, 1, 7, 1, 7, 6, 6, 6, 4, 6, 3, 2, 6, 3, 0, 1, 0, 6, 6, 5, 5, 2, 6, 4, 7, 3, 4, 7, 5, 6, 7, 0, 7, 2, 4, 7, 4, 1, 0, 2, 1, 3, 6, 6, 2, 4, 0, 2, 0, 1, 0, 6, 2, 1, 6, 2, 5, 2, 1, 0, 3, 4, 5, 3, 3, 7, 0, 4, 3, 2, 4, 4, 5, 1, 2, 0, 4, 7, 2, 3, 6, 2, 3, 4, 5, 6, 0, 5, 5, 3, 5, 6, 2, 7, 1, 2, 2, 0, 4, 2, 3, 2, 3, 2, 6, 2, 5, 6, 5, 6, 3, 4, 0, 5, 5, 0, 7, 2, 2, 1, 6, 4, 4, 5, 2, 3, 3, 5, 1, 4, 7, 4, 4, 6, 7, 0, 7, 0, 1, 0, 1, 3, 5, 3, 7, 1, 3, 7, 6, 6, 5, 6, 1, 7, 1, 4, 6, 2, 0, 7, 4, 2, 6, 7, 1, 4, 0, 5, 4, 1, 1, 2, 5, 7, 6, 3, 7, 7, 5, 6, 0, 0, 3, 3, 5, 7, 3, 6, 5, 6, 3, 2, 5, 0, 7, 1, 7, 0, 6, 0, 1, 6, 6, 0, 4, 4, 2, 3, 2, 0, 2, 4, 2, 3, 5, 6, 1, 5, 1, 4, 5, 6, 7, 7, 0, 3, 3, 2, 1, 0, 4, 4, 0, 1, 5, 3, 0, 0, 4, 2, 2, 1, 0, 2, 2, 6, 1, 5, 7, 4, 4, 4, 6, 4, 4, 1, 6, 1, 5, 3, 6, 2, 7, 2, 5, 4, 2, 5, 1, 2, 2, 1, 1, 6, 2, 1, 0, 7, 6, 4, 0, 6, 2, 5, 5, 0, 5, 6, 5, 2, 5, 5, 2, 2, 0, 4, 4, 4, 0, 2, 0, 2, 7, 2, 6, 2, 0, 5, 3, 3, 1, 3, 0, 4, 2, 2, 4, 2, 4, 7, 2, 7, 2, 1, 2, 2, 4, 1, 2, 5, 7, 3, 5, 1, 1, 0, 1, 2, 5, 7, 5, 7, 7, 6, 6, 1, 0, 7, 1, 5, 4, 5, 1, 5, 3, 5, 4, 0, 5, 4, 7, 2, 3, 0, 5, 5, 3, 3, 7, 3, 0, 4, 6, 2, 5, 6, 7, 3, 6, 3, 1, 5, 4, 1, 5, 6, 1, 7, 1, 1, 7, 1, 1, 7, 6, 6, 6, 2, 5, 7, 4, 2, 2, 1, 1, 3, 1, 5, 6, 2, 6, 6, 4, 4, 3, 1, 4, 6, 1, 4, 1, 1, 4, 0, 3, 3, 2, 3, 0, 1, 2, 6, 7, 5, 4, 0, 3, 1, 0, 2, 1, 1, 7, 1, 7, 1, 5, 7, 3, 5, 1, 0, 4, 1, 4, 7, 0, 6, 5, 0, 4, 1, 1, 3, 2, 1, 2, 1, 1, 1, 1, 4, 4, 1, 0, 5, 7, 1, 6, 1, 1, 2, 1, 5, 5, 4, 7, 1, 6, 5, 3, 5, 2, 3, 3, 2, 7, 2, 0, 3, 2, 5, 0, 2, 1, 6, 5, 3, 3, 4, 0, 3, 0, 1, 7, 6, 7, 2, 2, 2, 4, 0, 7, 5, 3, 7, 7, 3, 1, 6, 7, 4, 1, 2, 3, 2, 7, 7, 4, 5, 1, 0, 1, 2, 5, 2, 7, 0, 1, 2, 2, 0, 6, 0, 0, 7, 4, 0, 2, 5, 4, 1, 5, 1, 7, 5, 6, 1, 6, 2, 7, 1, 4, 2, 1, 4, 3, 7, 1, 7, 1, 2, 5, 3, 0, 5, 3, 4, 2, 4, 4, 0, 3, 2, 2, 0, 5, 4, 0, 4, 6, 6, 6, 0, 7, 3, 2, 3, 0, 2, 1, 6, 6, 5, 1, 4, 3, 5, 2, 1, 3, 3, 4, 4, 3, 6, 0, 0, 4, 1, 0, 5, 2, 0, 3, 6, 7, 5, 5, 1, 4, 7, 3, 2, 2, 6, 0, 7, 3, 1, 2, 0, 6, 2, 4, 0, 6, 4, 1, 2, 4, 7, 3, 1, 0, 6, 3, 7, 3, 5, 2, 5, 4, 1, 4, 5, 4, 6, 6, 4, 2, 0, 7, 0, 6, 5, 5, 4, 0, 2, 6, 4, 0, 4, 5, 0, 4, 4, 0, 4, 5, 6, 7, 6, 1, 1, 3, 7, 7, 3, 5, 4, 3, 7, 7, 7, 2, 2, 2, 3, 6, 2, 1, 4, 5, 1, 7, 7, 4, 6, 5, 4, 0, 6, 5, 0, 5, 0, 3, 1, 7, 1, 5, 0, 1, 2, 1, 5, 3, 2, 4, 0, 6, 2, 1, 4, 3, 1, 4, 6, 7, 7, 6, 2, 6, 4, 4, 4, 5, 7, 7, 5, 7, 3, 6, 2, 5, 7, 0, 4, 5, 0, 1, 5, 2, 4, 5, 2, 7, 5, 2, 5, 5, 3, 3, 2, 3, 0, 2, 3, 4, 5, 3, 4, 1, 6, 3, 3, 0, 5, 6, 2, 4, 6, 2, 5, 2, 5, 5, 1, 2, 0, 2, 6, 7, 7, 5, 0, 3, 5, 3, 2, 3, 7, 0, 5, 7, 7, 1, 7, 2, 0, 2, 3, 6, 2, 4, 1, 0, 6, 6, 2, 6, 3, 2, 0, 1, 5, 4, 1, 3, 1, 2, 2, 6, 2, 3, 1, 1, 2, 1, 5, 1, 7, 2, 5, 3, 6, 7, 1, 2, 2, 0, 4, 3, 0, 4, 5, 0, 4, 7, 3, 3, 4, 7, 7, 1, 4, 6, 5, 3, 5, 5, 0, 6, 1, 7, 3, 6, 6, 1, 6, 0, 7, 0, 5, 1, 3, 3, 6, 1, 1, 5, 0, 7, 7, 6, 7, 1, 3, 2, 0, 7, 3, 6, 1, 0, 4, 1, 3, 6, 3, 7, 5, 2, 0, 5, 0, 2, 2, 2, 1, 0, 5, 2, 1, 0, 4, 3, 1, 4, 1, 0, 6, 3, 3, 1, 3, 4, 0, 2, 2, 3, 2, 5, 6, 7, 2, 7, 0, 2, 0, 5, 5, 1, 5, 4, 5, 4, 1, 4, 0, 6, 2, 1, 4, 4, 4, 0, 2, 3, 6, 5, 5, 3, 1, 4, 2, 7, 0, 1, 2, 1, 4, 7, 0, 2, 6, 5, 7, 0, 5, 0, 1, 5, 4, 1, 1, 4, 6, 2, 5, 0, 7, 1, 2, 2, 0, 5, 5, 5, 5, 3, 3, 2, 4, 1, 0, 2, 5, 3, 7, 1, 1, 7, 4, 6, 5, 0, 7, 4, 0, 0, 5, 6, 7, 0, 1, 0, 3, 2, 0, 4, 4, 7, 3, 6, 0, 1, 5, 7, 6, 2, 7, 7, 2, 0, 6, 7, 7, 1, 6, 4, 3, 1, 0, 0, 3, 2, 1, 3, 5, 6, 5, 2, 2, 4, 5, 7, 3, 3, 5, 7, 3, 0, 7, 0, 5, 4, 6, 0, 6, 1, 0, 4, 4, 4, 3, 7, 4, 0, 2, 7, 2, 2, 0, 3, 7, 1, 4, 4, 6, 5, 1, 3, 0, 6, 0, 3, 5, 0, 2, 1, 6, 5, 1, 2, 1, 6, 0, 1, 3, 5, 7, 7, 0, 6, 5, 7, 6, 2, 7, 7, 4, 5, 7, 5, 1, 1, 2, 1, 4, 3, 2, 4, 6, 2, 5, 7, 1, 3, 0, 3, 5, 1, 0, 6, 5, 3, 7, 5, 2, 2, 3, 3, 2, 4, 4, 1, 2, 0, 0, 7, 6, 3, 3, 3, 3, 5, 2, 0, 0, 4, 6, 7, 1, 6, 1, 7, 2, 2, 1, 4, 5, 7, 0, 1, 2, 2, 2, 0, 4, 6, 2, 7, 5, 7, 5, 1, 6, 0, 7, 1, 0, 7, 6, 1, 3, 3, 6, 7, 7, 3, 6, 7, 4, 6, 1, 3, 2, 3, 7, 6, 1, 2, 3, 3, 5, 6, 2, 3, 2, 6, 3, 0, 3, 2, 6, 4, 1, 6, 7, 4, 0, 7, 4, 2, 1, 7, 3, 4, 3, 6, 7, 0, 2, 4, 6, 0, 1, 7, 2, 0, 7, 4, 2, 7, 1, 5, 5, 6, 5, 3, 1, 1, 6, 7, 6, 4, 4, 5, 0, 1, 5, 1, 6, 1, 1, 2, 3, 4, 0, 3, 3, 7, 4, 0, 5, 4, 0, 2, 0, 2, 1, 4, 3, 3, 4, 3, 4, 6, 6, 3, 4, 7, 0, 0, 5, 3, 0, 6, 7, 3, 4, 3, 7, 4, 2, 6, 6, 2, 6, 3, 4, 4, 6, 3, 6, 2, 2, 5, 5, 1, 1, 7, 0, 2, 5, 2, 2, 7, 1, 0, 0, 6, 5, 0, 2, 4, 6, 1, 5, 2, 5, 5, 5, 5, 0, 1, 2, 0, 2, 5, 2, 2, 1, 3, 7, 6, 5, 2, 6, 4, 7, 7, 2, 1, 1, 2, 6, 6, 5, 1, 1, 2, 7, 7, 6, 5, 2, 3, 6, 3, 2, 2, 6, 0, 2, 7, 0, 2, 4, 6, 7, 1, 6, 1, 7, 7, 5, 5, 3, 3, 5, 5, 5, 4, 6, 1, 6, 6, 3, 0, 6, 4, 3, 5, 1, 6, 0, 4, 4, 0, 1, 7, 4, 1, 3, 2, 3, 6, 1, 0, 6, 7, 6, 2, 2, 3, 4, 7, 3, 4, 1, 2, 6, 6, 3, 3, 2, 4, 4, 4, 6, 6, 4, 0, 3, 6, 7, 7, 3, 1, 6, 5, 7, 0, 2, 6, 3, 2, 0, 0, 4, 4, 4, 0, 0, 3, 5, 6, 5, 1, 5, 6, 2, 7, 1, 2, 4, 7, 4, 5, 0, 7, 5, 7, 1, 2, 6, 4, 6, 1, 3, 6, 2, 2, 5, 2, 6, 7, 1, 0, 6, 4, 4, 5, 6, 1, 3, 1, 1, 6, 7, 4, 6, 5, 0, 2, 0, 2, 1, 1, 3, 6, 0, 0, 0, 2, 4, 7, 0, 7, 3, 1, 2, 6, 0, 4, 2, 0, 5, 2, 2, 4, 7, 0, 0, 7, 5, 1, 7, 0, 7, 2, 3, 0, 7, 5, 5, 0, 0, 6, 6, 0, 4, 1, 4, 7, 1, 0, 3, 0, 2, 7, 3, 0, 3, 6, 3, 1, 0, 2, 0, 3, 3, 6, 0, 4, 7, 2, 1, 2, 7, 5, 2, 3, 0, 0, 5, 2, 7, 5, 4, 4, 3, 4, 6, 3, 0, 3, 1, 3, 2, 7, 6, 6, 2, 2, 0, 2, 2, 2, 4, 6, 6, 5, 7, 3, 3, 5, 6, 7, 5, 1, 1, 6, 6, 1, 6, 0, 5, 3, 4, 6, 0, 6, 1, 4, 2, 4, 3, 7, 5, 2, 3, 4, 2, 4, 1, 6, 3, 7, 0, 4, 0, 4, 5, 3, 3, 2, 3, 6, 4, 2, 7, 4, 4, 1, 5, 2, 0, 3, 1, 7, 3, 1, 2, 2, 4, 5, 7, 0, 0, 5, 0, 6, 1, 7, 7, 6, 5, 5, 7, 7, 3, 1, 1, 3, 2, 7, 7, 0, 3, 6, 1, 6, 0, 0, 3, 1, 5, 3, 0, 6, 2, 3, 1, 3, 4, 7, 2, 0, 5, 2, 4, 5, 1, 6, 3, 4, 4, 3, 6, 5, 4, 5, 4, 0, 4, 4, 6, 4, 5, 2, 4, 1, 0, 3, 1, 5, 6, 7, 4, 0, 7, 0, 0, 0, 4, 4, 4, 6, 6, 6, 3, 7, 3, 4, 6, 1, 3, 2, 3, 0, 7, 7, 3, 3, 1, 2, 0, 5, 7, 2, 0, 0, 5, 1, 1, 1, 5, 3, 6, 1, 3, 1, 6, 5, 6, 2, 5, 0, 0, 0, 2, 1, 1, 0, 4, 5, 7, 2, 5, 2, 0, 5, 0, 4, 6, 7, 0, 2, 6, 1, 3, 1, 4, 1, 7, 7, 6, 1, 3, 2, 0, 3, 7, 7, 7, 2, 1, 3, 7, 7, 0, 5, 4, 7, 3, 7, 3, 6, 6, 7, 3, 0, 3, 1, 5, 2, 1, 4, 2, 2, 0, 4, 1, 7, 1, 3, 0, 5, 4, 7, 4, 6, 7, 7, 3, 2, 5, 6, 1, 0, 6, 5, 2, 2, 7, 4, 1, 7, 6, 7, 6, 0, 3, 0, 7, 3, 2, 7, 4, 1, 4, 4, 7, 1, 6, 5, 5, 1, 1, 7, 2, 3, 6, 3, 2, 5, 3, 6, 2, 1, 2, 5, 2, 1, 1, 3, 1, 6, 6, 2, 6, 5, 7, 3, 1, 4, 6, 4, 3, 0, 5, 6, 6, 6, 1, 1, 6, 5, 2, 7, 5, 0, 7, 3, 2, 0]\n",
            "[0, 1, 7, 3, 1, 4, 7, 6, 6, 3, 3, 7, 1, 2, 6, 6, 6, 2, 2, 4, 1, 4, 1, 0, 7, 7, 3, 2, 6, 2, 0, 0, 1, 2, 0, 1, 7, 1, 4, 7, 5, 1, 0, 1, 7, 6, 4, 6, 0, 5, 4, 6, 2, 6, 6, 5, 3, 3, 2, 6, 3, 0, 1, 6, 4, 4, 0, 2, 7, 6, 1, 6, 5, 4, 2, 4, 1, 6, 2, 4, 2, 5, 0, 4, 1, 7, 7, 5, 3, 4, 3, 5, 7, 2, 4, 3, 3, 5, 0, 3, 5, 3, 6, 5, 3, 6, 7, 3, 5, 1, 1, 2, 6, 1, 2, 5, 5, 5, 7, 0, 3, 6, 1, 0, 6, 4, 5, 2, 5, 0, 1, 4, 0, 3, 3, 3, 5, 4, 6, 6, 3, 5, 1, 2, 6, 0, 3, 3, 3, 4, 6, 0, 7, 6, 2, 4, 7, 5, 2, 5, 0, 7, 0, 3, 2, 5, 4, 1, 6, 7, 5, 5, 4, 4, 1, 7, 5, 5, 7, 4, 6, 3, 3, 2, 7, 3, 3, 3, 1, 7, 2, 5, 3, 4, 0, 3, 3, 0, 3, 2, 2, 1, 6, 2, 2, 6, 4, 3, 7, 2, 1, 6, 3, 3, 3, 2, 7, 4, 4, 1, 6, 3, 5, 5, 1, 1, 4, 2, 2, 4, 2, 3, 7, 2, 2, 1, 7, 1, 7, 6, 6, 6, 4, 6, 3, 2, 6, 3, 0, 1, 0, 6, 6, 5, 5, 2, 6, 4, 7, 3, 4, 7, 5, 6, 7, 0, 7, 2, 4, 7, 4, 1, 0, 2, 1, 0, 6, 6, 2, 4, 0, 2, 0, 1, 0, 6, 2, 1, 6, 2, 5, 2, 1, 0, 3, 4, 5, 3, 3, 7, 0, 4, 3, 2, 4, 4, 5, 0, 2, 0, 4, 7, 2, 3, 6, 2, 3, 4, 5, 6, 0, 5, 5, 3, 5, 6, 2, 7, 1, 2, 2, 0, 4, 2, 3, 2, 3, 2, 6, 2, 5, 6, 5, 6, 3, 4, 0, 5, 5, 0, 7, 2, 2, 1, 6, 4, 4, 5, 2, 3, 3, 5, 1, 4, 7, 4, 4, 6, 7, 0, 7, 0, 1, 0, 1, 3, 5, 3, 7, 1, 3, 7, 6, 6, 5, 6, 1, 7, 1, 4, 6, 2, 0, 7, 4, 2, 6, 7, 1, 4, 0, 5, 4, 1, 1, 2, 5, 7, 6, 3, 7, 7, 5, 6, 0, 0, 3, 3, 5, 7, 0, 6, 5, 6, 3, 2, 5, 0, 7, 1, 7, 0, 6, 0, 1, 6, 6, 0, 4, 4, 2, 3, 2, 0, 2, 4, 2, 3, 5, 6, 1, 5, 1, 4, 5, 6, 7, 7, 0, 0, 3, 2, 1, 0, 4, 4, 0, 1, 5, 3, 0, 0, 4, 2, 2, 1, 0, 2, 2, 6, 1, 5, 7, 4, 4, 4, 6, 4, 4, 1, 6, 1, 5, 3, 6, 2, 7, 2, 5, 4, 2, 5, 1, 2, 2, 1, 1, 6, 2, 1, 0, 7, 6, 4, 0, 6, 2, 5, 5, 0, 5, 6, 5, 2, 5, 5, 2, 2, 0, 4, 4, 4, 0, 2, 0, 2, 7, 2, 6, 2, 0, 5, 3, 3, 1, 3, 0, 4, 2, 2, 4, 2, 4, 7, 2, 7, 2, 1, 2, 2, 4, 1, 2, 5, 7, 3, 5, 1, 1, 0, 1, 2, 5, 7, 5, 7, 7, 6, 6, 1, 0, 7, 1, 5, 4, 5, 1, 5, 3, 5, 4, 0, 5, 4, 7, 2, 3, 0, 5, 5, 3, 3, 7, 3, 0, 4, 6, 2, 5, 6, 7, 3, 6, 3, 1, 5, 4, 1, 5, 6, 0, 7, 1, 1, 7, 1, 1, 7, 6, 6, 6, 2, 5, 7, 4, 2, 2, 1, 1, 3, 1, 5, 6, 2, 6, 6, 4, 4, 3, 1, 4, 6, 1, 4, 1, 1, 4, 0, 3, 3, 0, 3, 0, 1, 2, 6, 7, 5, 4, 0, 3, 1, 0, 2, 1, 1, 7, 1, 7, 1, 5, 7, 3, 5, 1, 0, 4, 1, 4, 7, 0, 6, 5, 0, 4, 1, 1, 0, 2, 1, 2, 1, 1, 1, 1, 4, 4, 1, 0, 5, 7, 1, 6, 1, 1, 2, 1, 5, 5, 4, 7, 1, 6, 5, 3, 5, 2, 3, 3, 2, 7, 2, 0, 3, 2, 5, 0, 2, 1, 6, 5, 3, 3, 4, 0, 3, 0, 1, 7, 6, 7, 2, 2, 2, 4, 0, 7, 5, 3, 7, 7, 3, 1, 6, 7, 4, 1, 2, 3, 2, 7, 7, 4, 5, 0, 0, 1, 2, 5, 2, 7, 1, 1, 2, 2, 0, 6, 0, 0, 7, 4, 0, 2, 5, 4, 1, 5, 1, 7, 5, 6, 1, 6, 2, 7, 1, 4, 2, 1, 4, 3, 7, 1, 7, 1, 2, 5, 3, 0, 5, 3, 4, 2, 4, 4, 0, 3, 2, 2, 0, 5, 4, 0, 4, 6, 6, 6, 0, 7, 3, 2, 3, 0, 2, 1, 6, 6, 5, 1, 4, 3, 5, 2, 1, 3, 3, 4, 4, 3, 6, 0, 0, 4, 1, 0, 5, 2, 0, 3, 6, 7, 5, 5, 1, 4, 7, 3, 2, 2, 6, 0, 7, 3, 1, 2, 0, 6, 2, 4, 0, 6, 4, 1, 2, 4, 7, 3, 1, 0, 6, 3, 7, 3, 5, 2, 5, 4, 1, 4, 5, 4, 6, 6, 4, 2, 0, 7, 0, 6, 5, 5, 4, 0, 2, 6, 4, 0, 4, 5, 0, 4, 4, 0, 4, 5, 6, 7, 6, 1, 1, 3, 7, 7, 3, 5, 4, 3, 7, 7, 7, 2, 2, 2, 3, 6, 2, 1, 4, 5, 1, 7, 7, 4, 6, 5, 4, 0, 6, 5, 0, 0, 0, 3, 1, 7, 1, 5, 0, 1, 2, 1, 5, 3, 2, 4, 0, 6, 2, 1, 4, 3, 1, 4, 6, 7, 7, 6, 2, 6, 4, 4, 4, 5, 7, 7, 5, 7, 3, 6, 2, 5, 7, 0, 4, 5, 0, 1, 5, 2, 4, 5, 2, 7, 5, 2, 5, 5, 3, 3, 2, 3, 0, 2, 3, 4, 5, 3, 4, 1, 6, 3, 3, 0, 5, 6, 2, 4, 6, 2, 5, 2, 5, 5, 1, 2, 0, 2, 6, 7, 7, 5, 0, 3, 5, 3, 2, 3, 7, 0, 5, 7, 7, 0, 7, 2, 0, 2, 3, 6, 2, 4, 1, 0, 6, 6, 2, 6, 3, 2, 3, 1, 5, 4, 1, 3, 1, 2, 2, 6, 2, 3, 1, 1, 2, 1, 5, 1, 7, 2, 5, 3, 6, 7, 1, 2, 2, 0, 4, 3, 0, 4, 5, 0, 4, 7, 3, 3, 4, 7, 7, 1, 4, 6, 5, 3, 5, 5, 0, 6, 1, 7, 3, 6, 6, 1, 6, 0, 7, 0, 5, 1, 3, 3, 6, 1, 1, 5, 0, 7, 7, 6, 7, 1, 3, 2, 0, 7, 3, 6, 1, 0, 4, 1, 3, 6, 3, 7, 5, 2, 0, 5, 0, 2, 2, 2, 1, 0, 5, 2, 1, 0, 4, 3, 1, 4, 1, 0, 6, 3, 3, 1, 3, 4, 0, 2, 2, 0, 2, 5, 6, 7, 2, 7, 0, 2, 0, 5, 5, 1, 5, 4, 5, 4, 1, 4, 0, 6, 2, 1, 4, 4, 4, 0, 2, 3, 6, 5, 5, 3, 1, 4, 2, 7, 0, 1, 2, 1, 4, 7, 0, 2, 6, 5, 7, 0, 5, 0, 1, 5, 4, 0, 1, 4, 6, 2, 5, 0, 7, 1, 2, 2, 0, 5, 5, 5, 5, 3, 3, 2, 4, 1, 0, 2, 5, 3, 7, 1, 1, 7, 4, 6, 5, 0, 7, 4, 0, 0, 5, 6, 7, 0, 0, 0, 3, 2, 0, 4, 4, 7, 3, 6, 0, 1, 5, 7, 6, 2, 7, 7, 2, 0, 6, 7, 7, 1, 6, 4, 3, 1, 0, 0, 3, 2, 1, 3, 5, 6, 5, 2, 2, 4, 5, 7, 3, 3, 5, 7, 3, 0, 7, 0, 5, 4, 6, 0, 6, 1, 0, 4, 4, 4, 3, 7, 4, 0, 2, 7, 2, 2, 0, 3, 7, 1, 4, 4, 6, 5, 1, 3, 0, 6, 0, 3, 5, 0, 2, 1, 6, 5, 1, 2, 1, 6, 0, 1, 3, 5, 7, 7, 0, 6, 5, 7, 6, 2, 7, 7, 4, 5, 7, 5, 1, 1, 2, 1, 4, 0, 2, 4, 6, 2, 5, 7, 1, 3, 0, 3, 5, 1, 0, 6, 5, 3, 7, 5, 2, 2, 3, 3, 2, 4, 4, 1, 2, 0, 0, 7, 6, 3, 3, 3, 3, 5, 2, 0, 0, 4, 6, 7, 1, 6, 1, 7, 2, 2, 1, 4, 5, 7, 0, 1, 2, 2, 2, 0, 4, 6, 2, 7, 5, 7, 5, 1, 6, 0, 7, 1, 0, 7, 6, 1, 3, 3, 6, 7, 7, 3, 6, 7, 4, 6, 1, 0, 2, 3, 7, 6, 1, 2, 3, 3, 5, 6, 2, 3, 2, 6, 3, 0, 3, 2, 6, 4, 1, 6, 7, 4, 0, 7, 4, 2, 1, 7, 3, 4, 3, 6, 7, 0, 2, 0, 6, 0, 1, 7, 2, 1, 7, 4, 2, 7, 0, 5, 5, 6, 5, 3, 1, 1, 6, 7, 6, 4, 4, 5, 0, 1, 5, 1, 6, 1, 1, 2, 3, 4, 0, 3, 3, 7, 4, 0, 5, 4, 0, 2, 0, 2, 1, 4, 3, 3, 4, 3, 4, 6, 6, 3, 4, 7, 0, 0, 5, 3, 0, 6, 7, 3, 4, 3, 7, 4, 2, 6, 6, 2, 6, 3, 4, 4, 6, 3, 6, 2, 2, 5, 5, 1, 1, 7, 0, 2, 5, 2, 2, 7, 1, 0, 0, 6, 5, 0, 2, 4, 6, 1, 5, 2, 5, 5, 5, 5, 0, 1, 2, 0, 2, 5, 2, 2, 1, 3, 7, 6, 5, 2, 6, 4, 7, 7, 2, 1, 1, 2, 6, 6, 5, 1, 1, 2, 7, 7, 6, 5, 2, 3, 6, 3, 2, 2, 6, 0, 2, 7, 0, 2, 4, 6, 7, 1, 6, 1, 7, 7, 5, 5, 3, 3, 5, 5, 5, 4, 6, 1, 6, 6, 3, 0, 6, 4, 3, 5, 1, 6, 0, 4, 4, 0, 1, 7, 4, 1, 3, 2, 3, 6, 1, 0, 6, 7, 6, 2, 2, 3, 4, 7, 3, 4, 1, 2, 6, 6, 3, 3, 2, 4, 4, 4, 6, 6, 4, 0, 3, 6, 7, 7, 3, 0, 6, 5, 7, 0, 2, 6, 3, 2, 0, 0, 4, 4, 4, 0, 0, 3, 5, 6, 5, 1, 5, 6, 2, 7, 1, 2, 4, 7, 4, 5, 0, 7, 5, 7, 1, 2, 6, 4, 6, 1, 3, 6, 2, 2, 5, 2, 6, 7, 1, 0, 6, 4, 4, 5, 6, 1, 3, 1, 1, 6, 7, 4, 6, 5, 0, 2, 0, 2, 1, 1, 3, 6, 0, 0, 0, 2, 4, 7, 0, 7, 3, 1, 2, 6, 0, 4, 2, 0, 5, 2, 2, 4, 7, 0, 0, 7, 5, 1, 7, 0, 7, 2, 3, 0, 7, 5, 5, 0, 0, 6, 6, 0, 4, 1, 4, 7, 1, 0, 3, 0, 2, 7, 3, 0, 3, 6, 3, 1, 0, 2, 0, 3, 3, 6, 0, 4, 7, 2, 1, 2, 7, 5, 2, 3, 0, 0, 5, 2, 7, 5, 4, 4, 3, 4, 6, 3, 0, 3, 1, 3, 2, 7, 6, 6, 2, 2, 0, 2, 2, 2, 4, 6, 6, 5, 7, 3, 3, 5, 6, 7, 5, 1, 1, 6, 6, 1, 6, 0, 5, 3, 4, 6, 0, 6, 1, 4, 2, 4, 3, 7, 5, 2, 3, 4, 2, 4, 1, 6, 3, 7, 0, 4, 0, 4, 5, 3, 3, 0, 0, 6, 4, 2, 7, 4, 4, 1, 5, 2, 0, 3, 1, 7, 3, 1, 2, 2, 4, 5, 7, 0, 0, 5, 0, 6, 1, 7, 7, 6, 5, 5, 7, 7, 3, 1, 1, 3, 2, 7, 7, 0, 3, 6, 1, 6, 0, 0, 3, 1, 5, 3, 0, 6, 2, 3, 1, 3, 4, 7, 2, 0, 5, 2, 4, 5, 1, 6, 3, 4, 4, 3, 6, 5, 4, 5, 4, 0, 4, 4, 6, 4, 5, 2, 4, 1, 0, 3, 0, 5, 6, 7, 4, 0, 7, 0, 0, 0, 4, 4, 4, 6, 6, 6, 3, 7, 3, 4, 6, 1, 3, 2, 3, 0, 7, 7, 3, 3, 1, 2, 0, 5, 7, 2, 0, 0, 5, 1, 1, 1, 5, 3, 6, 1, 3, 1, 6, 5, 6, 2, 5, 1, 0, 0, 2, 1, 1, 0, 4, 5, 7, 2, 5, 2, 0, 5, 0, 4, 6, 7, 0, 2, 6, 1, 3, 1, 4, 1, 7, 7, 6, 1, 3, 2, 0, 3, 7, 7, 7, 2, 1, 3, 7, 7, 0, 5, 4, 7, 3, 7, 3, 6, 6, 7, 3, 0, 3, 1, 5, 2, 1, 4, 2, 2, 0, 4, 1, 7, 1, 3, 0, 5, 4, 7, 4, 6, 7, 7, 3, 2, 5, 6, 1, 0, 6, 5, 2, 2, 7, 4, 1, 7, 6, 7, 6, 0, 3, 0, 7, 3, 2, 7, 4, 1, 4, 4, 7, 1, 6, 5, 5, 1, 1, 7, 2, 3, 6, 3, 2, 5, 3, 6, 2, 1, 2, 5, 2, 1, 1, 3, 1, 6, 6, 2, 6, 5, 7, 3, 1, 4, 6, 4, 3, 0, 5, 6, 6, 6, 0, 1, 6, 5, 2, 7, 5, 0, 7, 3, 2, 0]\n"
          ]
        }
      ]
    },
    {
      "cell_type": "code",
      "source": [
        "#y_pred=model.predict(x_test)\n",
        "y_pred=yp\n",
        "y_test=yt\n",
        "acc=accuracy_score(y_test,y_pred)\n",
        "print(acc)"
      ],
      "metadata": {
        "colab": {
          "base_uri": "https://localhost:8080/"
        },
        "id": "x_oQG_CSFSDe",
        "outputId": "8febb7af-4ac4-43ce-c1d6-e5edba29543e"
      },
      "execution_count": null,
      "outputs": [
        {
          "output_type": "stream",
          "name": "stdout",
          "text": [
            "0.987308533916849\n"
          ]
        }
      ]
    },
    {
      "cell_type": "code",
      "source": [
        "y_pred_prob=model.predict(x_test)\n",
        "lb = LabelBinarizer()\n",
        "y_test_encoded = lb.fit_transform(y_test)\n",
        "\n",
        "logloss=log_loss(y_test_encoded,y_pred_prob)\n",
        "print(logloss)"
      ],
      "metadata": {
        "colab": {
          "base_uri": "https://localhost:8080/"
        },
        "id": "igmDTQwDGMw6",
        "outputId": "18ff093d-9bf6-452a-8244-3171afd84025"
      },
      "execution_count": null,
      "outputs": [
        {
          "output_type": "stream",
          "name": "stdout",
          "text": [
            "72/72 [==============================] - 1s 13ms/step\n",
            "0.05049271150862781\n"
          ]
        }
      ]
    },
    {
      "cell_type": "code",
      "source": [
        "jacc=jaccard_score(y_test,y_pred,average='macro')\n",
        "print(jacc)"
      ],
      "metadata": {
        "colab": {
          "base_uri": "https://localhost:8080/"
        },
        "id": "BCIGzyxtFVQA",
        "outputId": "709fcf85-ea1e-476a-a45d-50619ba07043"
      },
      "execution_count": null,
      "outputs": [
        {
          "output_type": "stream",
          "name": "stdout",
          "text": [
            "0.9757567891367045\n"
          ]
        }
      ]
    },
    {
      "cell_type": "code",
      "source": [
        "HammLoss=hamming_loss(y_test,y_pred)\n",
        "print(HammLoss)"
      ],
      "metadata": {
        "colab": {
          "base_uri": "https://localhost:8080/"
        },
        "id": "dPNHHqerFXEl",
        "outputId": "276f802c-df10-4d5c-cc6a-1bd31f590efd"
      },
      "execution_count": null,
      "outputs": [
        {
          "output_type": "stream",
          "name": "stdout",
          "text": [
            "0.012691466083150985\n"
          ]
        }
      ]
    },
    {
      "cell_type": "code",
      "source": [
        "c_report=classification_report(y_test,y_pred)\n",
        "print(c_report)"
      ],
      "metadata": {
        "colab": {
          "base_uri": "https://localhost:8080/"
        },
        "id": "EmUnj44BFYcW",
        "outputId": "8ce3c5e1-7372-4979-a51c-7ace549a3117"
      },
      "execution_count": null,
      "outputs": [
        {
          "output_type": "stream",
          "name": "stdout",
          "text": [
            "              precision    recall  f1-score   support\n",
            "\n",
            "           0       0.98      0.92      0.95       294\n",
            "           1       0.96      0.98      0.97       294\n",
            "           2       0.99      1.00      1.00       319\n",
            "           3       0.97      1.00      0.98       280\n",
            "           4       1.00      1.00      1.00       272\n",
            "           5       1.00      1.00      1.00       271\n",
            "           6       1.00      1.00      1.00       286\n",
            "           7       1.00      1.00      1.00       269\n",
            "\n",
            "    accuracy                           0.99      2285\n",
            "   macro avg       0.99      0.99      0.99      2285\n",
            "weighted avg       0.99      0.99      0.99      2285\n",
            "\n"
          ]
        }
      ]
    },
    {
      "cell_type": "code",
      "source": [
        "fpr={}\n",
        "tpr={}\n",
        "thresh={}\n",
        "\n",
        "for i in range(8):\n",
        "  fpr[i],tpr[i],thresh[i]=roc_curve(y_test,y_pred_prob[:,i],pos_label=i)\n",
        "\n",
        "plt.plot(fpr[0], tpr[0], linestyle='--',color='orange', label='Class 0 vs Rest')\n",
        "plt.plot(fpr[1], tpr[1], linestyle='--',color='green', label='Class 1 vs Rest')\n",
        "plt.plot(fpr[2], tpr[2], linestyle='--',color='blue', label='Class 2 vs Rest')\n",
        "plt.plot(fpr[3], tpr[3], linestyle='--',color='purple', label='Class 3 vs Rest')\n",
        "plt.plot(fpr[4], tpr[4], linestyle='--',color='red', label='Class 4 vs Rest')\n",
        "plt.plot(fpr[5], tpr[5], linestyle='--',color='brown', label='Class 5 vs Rest')\n",
        "plt.plot(fpr[6], tpr[6], linestyle='--',color='pink', label='Class 6 vs Rest')\n",
        "plt.plot(fpr[7], tpr[7], linestyle='--',color='olive', label='Class 7 vs Rest')\n",
        "plt.title('Multiclass ROC curve')\n",
        "plt.xlabel('False Positive Rate')\n",
        "plt.ylabel('True Positive rate')\n",
        "plt.legend(loc='best')\n",
        "plt.savefig('Multiclass ROC',dpi=300);"
      ],
      "metadata": {
        "colab": {
          "base_uri": "https://localhost:8080/",
          "height": 472
        },
        "id": "FXLnzzwaFaiK",
        "outputId": "99033368-7c4c-4d89-dd67-f25b9b5ba225"
      },
      "execution_count": null,
      "outputs": [
        {
          "output_type": "display_data",
          "data": {
            "text/plain": [
              "<Figure size 640x480 with 1 Axes>"
            ],
            "image/png": "[encoded data removed]"
          },
          "metadata": {}
        }
      ]
    },
    {
      "cell_type": "code",
      "source": [
        "roc_auc=roc_auc_score(y_test_encoded,y_pred_prob,average='macro',multi_class='ovo')\n",
        "print(roc_auc)"
      ],
      "metadata": {
        "colab": {
          "base_uri": "https://localhost:8080/"
        },
        "id": "ZyubmRs2FcyT",
        "outputId": "d9f4e67e-ea1a-4086-cae5-a46afa0b893e"
      },
      "execution_count": null,
      "outputs": [
        {
          "output_type": "stream",
          "name": "stdout",
          "text": [
            "0.9996994994537189\n"
          ]
        }
      ]
    }
  ]
}